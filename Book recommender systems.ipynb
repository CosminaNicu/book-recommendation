{
 "cells": [
  {
   "cell_type": "markdown",
   "metadata": {},
   "source": [
    "# Analysis and recommendation of Books"
   ]
  },
  {
   "cell_type": "markdown",
   "metadata": {},
   "source": [
    "## 1. Introduction\n",
    "\n",
    "There are thousands of books that have become popular over time and that thanks to them, we can escape from the real world for a few hours. \n",
    "\n",
    "How many times have you taken to decide the next book you were going to read? How many times have you doubted whether to choose Harry Potter or Twilight? \n",
    "\n",
    "\n",
    "<img src=\"./Images/twobooks.png\" alt=\"CB\" style=\"width: 300px;\"/>\n",
    "<br>\n",
    "\n",
    "\n",
    "There have been good recommender systems for movies or music, but not for books. \n",
    "\n",
    "That is why in this post we will try to analyze the famous dataset from Kaggle, <a href=\"https://www.kaggle.com/zygmunt/goodbooks-10k\"> GoodBooks-10k Dataset</a>. As written in the description, you can find the cleaned dataset in the next link: <a href=\"https://github.com/zygmuntz/goodbooks-10k\"> Cleaned goodbooks-10k dataset</a>. With this data, we will try to recommend a book. \n",
    "\n",
    "\n",
    "As we will see, this dataset contains ratings of almost ten thousand popular books taken from the well-known page _GoodReads.com_.\n",
    "The main idea is analyzing the dataset to get a fair idea about the relationship between the multiple attributes a book might have and the relationship between the users and the score that they gave to each book. \n",
    "\n",
    "Following topics would be covered as an outline for this article:\n",
    "\n",
    "- Data cleaning and preparation\n",
    "- Analysis of the data\n",
    "- Creating a recommender system:\n",
    "    - Content-based recommender.\n",
    "    - Collaborative Filtering."
   ]
  },
  {
   "cell_type": "markdown",
   "metadata": {},
   "source": [
    "### Dependencies\n",
    "\n",
    "For this project we will need to install the next libraries:\n",
    "\n",
    "* **Pandas and Numpy**: will help us to treat the data.\n",
    "* **MatplotLib and Seaborn:** to visualize the data in different ways.\n",
    "* **SkLearn:** Provide tools to train our models.\n",
    "* **Surprise:** Provide tools to build and analyze recommender systems. "
   ]
  },
  {
   "cell_type": "code",
   "execution_count": 1,
   "metadata": {},
   "outputs": [],
   "source": [
    "# Imports\n",
    "import numpy as np\n",
    "import seaborn as sns\n",
    "import pandas as pd\n",
    "import matplotlib.pyplot as plt\n",
    "from sklearn.feature_extraction.text import TfidfVectorizer\n",
    "from sklearn.metrics.pairwise import cosine_similarity\n",
    "\n",
    "from surprise import Reader, Dataset, SVD, evaluate\n",
    "\n",
    "import warnings\n",
    "warnings.filterwarnings(\"ignore\")"
   ]
  },
  {
   "cell_type": "markdown",
   "metadata": {},
   "source": [
    "## 2. Data Information\n",
    "\n",
    "The first step of all Machine Learning problems is reading our data and understand it, so in this section, we are going to visualize and understand the data we have.\n",
    "\n",
    "If it is necessary, we will also clean our data and prepare it for the analysis."
   ]
  },
  {
   "cell_type": "code",
   "execution_count": 2,
   "metadata": {},
   "outputs": [],
   "source": [
    "# Load Datasets\n",
    "books = pd.read_csv('Dataset/books.csv')\n",
    "ratings = pd.read_csv('Dataset/ratings.csv')\n",
    "tags = pd.read_csv('Dataset/tags.csv')\n",
    "book_tags = pd.read_csv('Dataset/book_tags.csv')"
   ]
  },
  {
   "cell_type": "code",
   "execution_count": 3,
   "metadata": {},
   "outputs": [
    {
     "name": "stdout",
     "output_type": "stream",
     "text": [
      "The books dataset has: 10000 entries.\n",
      "The ratings dataset has: 5976479 entries.\n",
      "The tags dataset has: 34252 entries.\n",
      "The book_tags dataset has: 999912 entries.\n"
     ]
    }
   ],
   "source": [
    "# Checking the shapes of the datasets\n",
    "print(\"The books dataset has:\", books.shape[0], \"entries.\")\n",
    "print(\"The ratings dataset has:\", ratings.shape[0], \"entries.\")\n",
    "print(\"The tags dataset has:\", tags.shape[0], \"entries.\")\n",
    "print(\"The book_tags dataset has:\", book_tags.shape[0], \"entries.\")"
   ]
  },
  {
   "cell_type": "markdown",
   "metadata": {},
   "source": [
    "As we see, we have a lot of information on these datasets. But we are going to go deeper in each one later. \n",
    "\n",
    "Now we are going to check if we have missing values in our data."
   ]
  },
  {
   "cell_type": "code",
   "execution_count": 4,
   "metadata": {},
   "outputs": [
    {
     "name": "stdout",
     "output_type": "stream",
     "text": [
      "Is there NaN values? \n",
      " On books dataset: True \n",
      " On ratings dataset: False \n",
      " On tags dataset: False \n",
      " On book_tags dataset: False\n"
     ]
    }
   ],
   "source": [
    "# Check for missing Values\n",
    "print(\"Is there NaN values? \\n On books dataset:\",  books.isnull().values.any(), \n",
    "      \"\\n On ratings dataset:\", ratings.isnull().values.any(),\n",
    "     \"\\n On tags dataset:\", tags.isnull().values.any(),\n",
    "     \"\\n On book_tags dataset:\", book_tags.isnull().values.any())"
   ]
  },
  {
   "cell_type": "markdown",
   "metadata": {},
   "source": [
    "As we see there are no missing values in most of the datasets but there are missing values in the books one that may perhaps complicate things for us in the future. \n",
    "\n",
    "Therefore we will see what attributes have NaNs values."
   ]
  },
  {
   "cell_type": "code",
   "execution_count": 5,
   "metadata": {},
   "outputs": [
    {
     "data": {
      "text/plain": [
       "isbn                          700\n",
       "isbn13                        585\n",
       "original_publication_year      21\n",
       "original_title                585\n",
       "language_code                1084\n",
       "dtype: int64"
      ]
     },
     "execution_count": 5,
     "metadata": {},
     "output_type": "execute_result"
    }
   ],
   "source": [
    "null_counts = books.isnull().sum()\n",
    "null_counts[null_counts>0]"
   ]
  },
  {
   "cell_type": "markdown",
   "metadata": {},
   "source": [
    "For now, we are not going to eliminate the values of NaN because we do not know if they will affect us since the attributes such as the ISBN / ISBN13 do not provide information to recommend a book. \n",
    "On the other hand, you can search for the book by title if the original is not found. If we see that we need it, we will deal with them later. \n",
    "\n",
    "As the year of the publication is concerned, we are going to check what is the range of years."
   ]
  },
  {
   "cell_type": "code",
   "execution_count": 6,
   "metadata": {},
   "outputs": [
    {
     "name": "stdout",
     "output_type": "stream",
     "text": [
      "Oldest book:  -1750.0\n",
      "Newer book:  2017.0\n"
     ]
    }
   ],
   "source": [
    "print(\"Oldest book: \", books['original_publication_year'].min())\n",
    "print(\"Newer book: \", books['original_publication_year'].max())"
   ]
  },
  {
   "cell_type": "markdown",
   "metadata": {},
   "source": [
    "As we can see, it is indicated to us that this attribute has negative values, when they do not make sense, so we are going to eliminate them as well as NaNs values. "
   ]
  },
  {
   "cell_type": "code",
   "execution_count": 7,
   "metadata": {},
   "outputs": [
    {
     "name": "stdout",
     "output_type": "stream",
     "text": [
      "Now we have 9948 entrances.\n"
     ]
    }
   ],
   "source": [
    "# Delete NaN values of original_publication_year\n",
    "for x in [\"original_publication_year\"]:\n",
    "    books = books[books[x].notnull()]\n",
    "\n",
    "# Delete negative values\n",
    "books = books[(books['original_publication_year'] >= 0)]\n",
    "print(\"Now we have\", books.shape[0], \"entrances.\")"
   ]
  },
  {
   "cell_type": "markdown",
   "metadata": {},
   "source": [
    "Once we have checked this, let us take a look at the data for each dataset. "
   ]
  },
  {
   "cell_type": "markdown",
   "metadata": {},
   "source": [
    "### Books dataset"
   ]
  },
  {
   "cell_type": "code",
   "execution_count": 8,
   "metadata": {},
   "outputs": [
    {
     "data": {
      "text/html": [
       "<div>\n",
       "<style scoped>\n",
       "    .dataframe tbody tr th:only-of-type {\n",
       "        vertical-align: middle;\n",
       "    }\n",
       "\n",
       "    .dataframe tbody tr th {\n",
       "        vertical-align: top;\n",
       "    }\n",
       "\n",
       "    .dataframe thead th {\n",
       "        text-align: right;\n",
       "    }\n",
       "</style>\n",
       "<table border=\"1\" class=\"dataframe\">\n",
       "  <thead>\n",
       "    <tr style=\"text-align: right;\">\n",
       "      <th></th>\n",
       "      <th>book_id</th>\n",
       "      <th>goodreads_book_id</th>\n",
       "      <th>best_book_id</th>\n",
       "      <th>work_id</th>\n",
       "      <th>books_count</th>\n",
       "      <th>isbn</th>\n",
       "      <th>isbn13</th>\n",
       "      <th>authors</th>\n",
       "      <th>original_publication_year</th>\n",
       "      <th>original_title</th>\n",
       "      <th>title</th>\n",
       "      <th>language_code</th>\n",
       "      <th>average_rating</th>\n",
       "      <th>ratings_count</th>\n",
       "      <th>work_ratings_count</th>\n",
       "      <th>work_text_reviews_count</th>\n",
       "      <th>ratings_1</th>\n",
       "      <th>ratings_2</th>\n",
       "      <th>ratings_3</th>\n",
       "      <th>ratings_4</th>\n",
       "      <th>ratings_5</th>\n",
       "      <th>image_url</th>\n",
       "      <th>small_image_url</th>\n",
       "    </tr>\n",
       "  </thead>\n",
       "  <tbody>\n",
       "    <tr>\n",
       "      <th>0</th>\n",
       "      <td>1</td>\n",
       "      <td>2767052</td>\n",
       "      <td>2767052</td>\n",
       "      <td>2792775</td>\n",
       "      <td>272</td>\n",
       "      <td>439023483</td>\n",
       "      <td>9.780439e+12</td>\n",
       "      <td>Suzanne Collins</td>\n",
       "      <td>2008.0</td>\n",
       "      <td>The Hunger Games</td>\n",
       "      <td>The Hunger Games (The Hunger Games, #1)</td>\n",
       "      <td>eng</td>\n",
       "      <td>4.34</td>\n",
       "      <td>4780653</td>\n",
       "      <td>4942365</td>\n",
       "      <td>155254</td>\n",
       "      <td>66715</td>\n",
       "      <td>127936</td>\n",
       "      <td>560092</td>\n",
       "      <td>1481305</td>\n",
       "      <td>2706317</td>\n",
       "      <td>https://images.gr-assets.com/books/1447303603m...</td>\n",
       "      <td>https://images.gr-assets.com/books/1447303603s...</td>\n",
       "    </tr>\n",
       "    <tr>\n",
       "      <th>1</th>\n",
       "      <td>2</td>\n",
       "      <td>3</td>\n",
       "      <td>3</td>\n",
       "      <td>4640799</td>\n",
       "      <td>491</td>\n",
       "      <td>439554934</td>\n",
       "      <td>9.780440e+12</td>\n",
       "      <td>J.K. Rowling, Mary GrandPré</td>\n",
       "      <td>1997.0</td>\n",
       "      <td>Harry Potter and the Philosopher's Stone</td>\n",
       "      <td>Harry Potter and the Sorcerer's Stone (Harry P...</td>\n",
       "      <td>eng</td>\n",
       "      <td>4.44</td>\n",
       "      <td>4602479</td>\n",
       "      <td>4800065</td>\n",
       "      <td>75867</td>\n",
       "      <td>75504</td>\n",
       "      <td>101676</td>\n",
       "      <td>455024</td>\n",
       "      <td>1156318</td>\n",
       "      <td>3011543</td>\n",
       "      <td>https://images.gr-assets.com/books/1474154022m...</td>\n",
       "      <td>https://images.gr-assets.com/books/1474154022s...</td>\n",
       "    </tr>\n",
       "    <tr>\n",
       "      <th>2</th>\n",
       "      <td>3</td>\n",
       "      <td>41865</td>\n",
       "      <td>41865</td>\n",
       "      <td>3212258</td>\n",
       "      <td>226</td>\n",
       "      <td>316015849</td>\n",
       "      <td>9.780316e+12</td>\n",
       "      <td>Stephenie Meyer</td>\n",
       "      <td>2005.0</td>\n",
       "      <td>Twilight</td>\n",
       "      <td>Twilight (Twilight, #1)</td>\n",
       "      <td>en-US</td>\n",
       "      <td>3.57</td>\n",
       "      <td>3866839</td>\n",
       "      <td>3916824</td>\n",
       "      <td>95009</td>\n",
       "      <td>456191</td>\n",
       "      <td>436802</td>\n",
       "      <td>793319</td>\n",
       "      <td>875073</td>\n",
       "      <td>1355439</td>\n",
       "      <td>https://images.gr-assets.com/books/1361039443m...</td>\n",
       "      <td>https://images.gr-assets.com/books/1361039443s...</td>\n",
       "    </tr>\n",
       "  </tbody>\n",
       "</table>\n",
       "</div>"
      ],
      "text/plain": [
       "   book_id  goodreads_book_id  best_book_id  work_id  books_count       isbn  \\\n",
       "0        1            2767052       2767052  2792775          272  439023483   \n",
       "1        2                  3             3  4640799          491  439554934   \n",
       "2        3              41865         41865  3212258          226  316015849   \n",
       "\n",
       "         isbn13                      authors  original_publication_year  \\\n",
       "0  9.780439e+12              Suzanne Collins                     2008.0   \n",
       "1  9.780440e+12  J.K. Rowling, Mary GrandPré                     1997.0   \n",
       "2  9.780316e+12              Stephenie Meyer                     2005.0   \n",
       "\n",
       "                             original_title  \\\n",
       "0                          The Hunger Games   \n",
       "1  Harry Potter and the Philosopher's Stone   \n",
       "2                                  Twilight   \n",
       "\n",
       "                                               title language_code  \\\n",
       "0            The Hunger Games (The Hunger Games, #1)           eng   \n",
       "1  Harry Potter and the Sorcerer's Stone (Harry P...           eng   \n",
       "2                            Twilight (Twilight, #1)         en-US   \n",
       "\n",
       "   average_rating  ratings_count  work_ratings_count  work_text_reviews_count  \\\n",
       "0            4.34        4780653             4942365                   155254   \n",
       "1            4.44        4602479             4800065                    75867   \n",
       "2            3.57        3866839             3916824                    95009   \n",
       "\n",
       "   ratings_1  ratings_2  ratings_3  ratings_4  ratings_5  \\\n",
       "0      66715     127936     560092    1481305    2706317   \n",
       "1      75504     101676     455024    1156318    3011543   \n",
       "2     456191     436802     793319     875073    1355439   \n",
       "\n",
       "                                           image_url  \\\n",
       "0  https://images.gr-assets.com/books/1447303603m...   \n",
       "1  https://images.gr-assets.com/books/1474154022m...   \n",
       "2  https://images.gr-assets.com/books/1361039443m...   \n",
       "\n",
       "                                     small_image_url  \n",
       "0  https://images.gr-assets.com/books/1447303603s...  \n",
       "1  https://images.gr-assets.com/books/1474154022s...  \n",
       "2  https://images.gr-assets.com/books/1361039443s...  "
      ]
     },
     "execution_count": 8,
     "metadata": {},
     "output_type": "execute_result"
    }
   ],
   "source": [
    "# Print the head of the books dataset.\n",
    "pd.set_option('display.max_columns', None)\n",
    "books.head(3)"
   ]
  },
  {
   "cell_type": "markdown",
   "metadata": {},
   "source": [
    "When we look at some examples, we can see that there are some attributes that we don't need for the analysis, such as:\n",
    "\n",
    "- _ratings_1, ratings_2, ratings_3, ratings_4, ratings_5_ (We don't need these attributes because we have an average of them in another one so, we will use only this one.)\n",
    "- _image_url_\n",
    "- _small_image_url_\n",
    "- _isbn_ , _isbn13_\n",
    "- _best\\_book\\_id_\n",
    "- _work\\_id_\n",
    "- _work_ratings_count_\n",
    "\n",
    "\n",
    "So we are going to delete them."
   ]
  },
  {
   "cell_type": "code",
   "execution_count": 9,
   "metadata": {},
   "outputs": [],
   "source": [
    "# Drop the columns that we don't need.\n",
    "books.drop(['best_book_id','work_id','work_ratings_count','ratings_1', 'ratings_2','ratings_3','ratings_4','ratings_5','image_url','small_image_url','isbn','isbn13'], axis=1,inplace=True)"
   ]
  },
  {
   "cell_type": "markdown",
   "metadata": {},
   "source": [
    "### Ratings dataset\n",
    "\n",
    "As previously discussed, there is also a dataset with user scores for each book. Let's explore what attributes it has and what useful information it gives us. "
   ]
  },
  {
   "cell_type": "code",
   "execution_count": 10,
   "metadata": {},
   "outputs": [
    {
     "data": {
      "text/html": [
       "<div>\n",
       "<style scoped>\n",
       "    .dataframe tbody tr th:only-of-type {\n",
       "        vertical-align: middle;\n",
       "    }\n",
       "\n",
       "    .dataframe tbody tr th {\n",
       "        vertical-align: top;\n",
       "    }\n",
       "\n",
       "    .dataframe thead th {\n",
       "        text-align: right;\n",
       "    }\n",
       "</style>\n",
       "<table border=\"1\" class=\"dataframe\">\n",
       "  <thead>\n",
       "    <tr style=\"text-align: right;\">\n",
       "      <th></th>\n",
       "      <th>user_id</th>\n",
       "      <th>book_id</th>\n",
       "      <th>rating</th>\n",
       "    </tr>\n",
       "  </thead>\n",
       "  <tbody>\n",
       "    <tr>\n",
       "      <th>0</th>\n",
       "      <td>1</td>\n",
       "      <td>258</td>\n",
       "      <td>5</td>\n",
       "    </tr>\n",
       "    <tr>\n",
       "      <th>1</th>\n",
       "      <td>2</td>\n",
       "      <td>4081</td>\n",
       "      <td>4</td>\n",
       "    </tr>\n",
       "    <tr>\n",
       "      <th>2</th>\n",
       "      <td>2</td>\n",
       "      <td>260</td>\n",
       "      <td>5</td>\n",
       "    </tr>\n",
       "  </tbody>\n",
       "</table>\n",
       "</div>"
      ],
      "text/plain": [
       "   user_id  book_id  rating\n",
       "0        1      258       5\n",
       "1        2     4081       4\n",
       "2        2      260       5"
      ]
     },
     "execution_count": 10,
     "metadata": {},
     "output_type": "execute_result"
    }
   ],
   "source": [
    "# Print head of the ratings dataset\n",
    "ratings.head(3)"
   ]
  },
  {
   "cell_type": "code",
   "execution_count": 11,
   "metadata": {},
   "outputs": [
    {
     "name": "stdout",
     "output_type": "stream",
     "text": [
      "The ratings can be: [5 4 3 2 1]\n"
     ]
    }
   ],
   "source": [
    "print(\"The ratings can be:\", ratings.rating.unique())"
   ]
  },
  {
   "cell_type": "markdown",
   "metadata": {},
   "source": [
    "We can take a look at how many ratings have each book and how many ratings have each user. "
   ]
  },
  {
   "cell_type": "code",
   "execution_count": 12,
   "metadata": {},
   "outputs": [
    {
     "name": "stdout",
     "output_type": "stream",
     "text": [
      "The minimum number of ratings per book is: 8\n",
      "The maximum number of ratings per book is: 22806\n"
     ]
    }
   ],
   "source": [
    "# Grouping by the book_id to know how many ratings have each book\n",
    "rating_book = ratings.groupby('book_id').book_id.apply(lambda x: len(x)).sort_values()\n",
    "print(\"The minimum number of ratings per book is:\", rating_book.min())\n",
    "print(\"The maximum number of ratings per book is:\", rating_book.max())"
   ]
  },
  {
   "cell_type": "code",
   "execution_count": 13,
   "metadata": {},
   "outputs": [
    {
     "name": "stdout",
     "output_type": "stream",
     "text": [
      "The minimum number of ratings per user is: 19\n",
      "The maximum number of ratings per user is: 200\n"
     ]
    }
   ],
   "source": [
    "rating_user = ratings.groupby('user_id').user_id.apply(lambda x: len(x)).sort_values()\n",
    "print(\"The minimum number of ratings per user is:\", rating_user.min())\n",
    "print(\"The maximum number of ratings per user is:\", rating_user.max())"
   ]
  },
  {
   "cell_type": "markdown",
   "metadata": {},
   "source": [
    "### Book_tags & tags dataset\n",
    "\n",
    "These two datasets are related to tags, and to better understand them, let's take a look at them. "
   ]
  },
  {
   "cell_type": "code",
   "execution_count": 14,
   "metadata": {},
   "outputs": [
    {
     "data": {
      "text/html": [
       "<div>\n",
       "<style scoped>\n",
       "    .dataframe tbody tr th:only-of-type {\n",
       "        vertical-align: middle;\n",
       "    }\n",
       "\n",
       "    .dataframe tbody tr th {\n",
       "        vertical-align: top;\n",
       "    }\n",
       "\n",
       "    .dataframe thead th {\n",
       "        text-align: right;\n",
       "    }\n",
       "</style>\n",
       "<table border=\"1\" class=\"dataframe\">\n",
       "  <thead>\n",
       "    <tr style=\"text-align: right;\">\n",
       "      <th></th>\n",
       "      <th>goodreads_book_id</th>\n",
       "      <th>tag_id</th>\n",
       "      <th>count</th>\n",
       "    </tr>\n",
       "  </thead>\n",
       "  <tbody>\n",
       "    <tr>\n",
       "      <th>0</th>\n",
       "      <td>1</td>\n",
       "      <td>30574</td>\n",
       "      <td>167697</td>\n",
       "    </tr>\n",
       "    <tr>\n",
       "      <th>1</th>\n",
       "      <td>1</td>\n",
       "      <td>11305</td>\n",
       "      <td>37174</td>\n",
       "    </tr>\n",
       "    <tr>\n",
       "      <th>2</th>\n",
       "      <td>1</td>\n",
       "      <td>11557</td>\n",
       "      <td>34173</td>\n",
       "    </tr>\n",
       "  </tbody>\n",
       "</table>\n",
       "</div>"
      ],
      "text/plain": [
       "   goodreads_book_id  tag_id   count\n",
       "0                  1   30574  167697\n",
       "1                  1   11305   37174\n",
       "2                  1   11557   34173"
      ]
     },
     "execution_count": 14,
     "metadata": {},
     "output_type": "execute_result"
    }
   ],
   "source": [
    "book_tags.head(3)"
   ]
  },
  {
   "cell_type": "code",
   "execution_count": 15,
   "metadata": {},
   "outputs": [
    {
     "data": {
      "text/html": [
       "<div>\n",
       "<style scoped>\n",
       "    .dataframe tbody tr th:only-of-type {\n",
       "        vertical-align: middle;\n",
       "    }\n",
       "\n",
       "    .dataframe tbody tr th {\n",
       "        vertical-align: top;\n",
       "    }\n",
       "\n",
       "    .dataframe thead th {\n",
       "        text-align: right;\n",
       "    }\n",
       "</style>\n",
       "<table border=\"1\" class=\"dataframe\">\n",
       "  <thead>\n",
       "    <tr style=\"text-align: right;\">\n",
       "      <th></th>\n",
       "      <th>tag_id</th>\n",
       "      <th>tag_name</th>\n",
       "    </tr>\n",
       "  </thead>\n",
       "  <tbody>\n",
       "    <tr>\n",
       "      <th>22578</th>\n",
       "      <td>22578</td>\n",
       "      <td>oulipo</td>\n",
       "    </tr>\n",
       "    <tr>\n",
       "      <th>31345</th>\n",
       "      <td>31345</td>\n",
       "      <td>tv-related</td>\n",
       "    </tr>\n",
       "    <tr>\n",
       "      <th>6490</th>\n",
       "      <td>6490</td>\n",
       "      <td>celebrity-bios</td>\n",
       "    </tr>\n",
       "  </tbody>\n",
       "</table>\n",
       "</div>"
      ],
      "text/plain": [
       "       tag_id        tag_name\n",
       "22578   22578          oulipo\n",
       "31345   31345      tv-related\n",
       "6490     6490  celebrity-bios"
      ]
     },
     "execution_count": 15,
     "metadata": {},
     "output_type": "execute_result"
    }
   ],
   "source": [
    "tags.sample(3)"
   ]
  },
  {
   "cell_type": "markdown",
   "metadata": {},
   "source": [
    "As we can see, the first one contains all the tags_ids users have assigned to that book and the corresponding tag_counts, while in the second, we have the tag_name corresponding to tag_id.\n",
    "\n",
    "We can merge these two datasets into one grouping by the 'tag_id' to simplify them. \n",
    "\n",
    "Also, we can merge with the books dataset to know exactly for each book which tags it has."
   ]
  },
  {
   "cell_type": "code",
   "execution_count": 16,
   "metadata": {},
   "outputs": [
    {
     "data": {
      "text/html": [
       "<div>\n",
       "<style scoped>\n",
       "    .dataframe tbody tr th:only-of-type {\n",
       "        vertical-align: middle;\n",
       "    }\n",
       "\n",
       "    .dataframe tbody tr th {\n",
       "        vertical-align: top;\n",
       "    }\n",
       "\n",
       "    .dataframe thead th {\n",
       "        text-align: right;\n",
       "    }\n",
       "</style>\n",
       "<table border=\"1\" class=\"dataframe\">\n",
       "  <thead>\n",
       "    <tr style=\"text-align: right;\">\n",
       "      <th></th>\n",
       "      <th>book_id</th>\n",
       "      <th>title</th>\n",
       "      <th>goodreads_book_id</th>\n",
       "      <th>authors</th>\n",
       "      <th>tag_id</th>\n",
       "      <th>count</th>\n",
       "      <th>tag_name</th>\n",
       "    </tr>\n",
       "  </thead>\n",
       "  <tbody>\n",
       "    <tr>\n",
       "      <th>0</th>\n",
       "      <td>1</td>\n",
       "      <td>The Hunger Games (The Hunger Games, #1)</td>\n",
       "      <td>2767052</td>\n",
       "      <td>Suzanne Collins</td>\n",
       "      <td>30574</td>\n",
       "      <td>11314</td>\n",
       "      <td>to-read</td>\n",
       "    </tr>\n",
       "    <tr>\n",
       "      <th>1</th>\n",
       "      <td>1</td>\n",
       "      <td>The Hunger Games (The Hunger Games, #1)</td>\n",
       "      <td>2767052</td>\n",
       "      <td>Suzanne Collins</td>\n",
       "      <td>11305</td>\n",
       "      <td>10836</td>\n",
       "      <td>fantasy</td>\n",
       "    </tr>\n",
       "    <tr>\n",
       "      <th>2</th>\n",
       "      <td>1</td>\n",
       "      <td>The Hunger Games (The Hunger Games, #1)</td>\n",
       "      <td>2767052</td>\n",
       "      <td>Suzanne Collins</td>\n",
       "      <td>11557</td>\n",
       "      <td>50755</td>\n",
       "      <td>favorites</td>\n",
       "    </tr>\n",
       "  </tbody>\n",
       "</table>\n",
       "</div>"
      ],
      "text/plain": [
       "   book_id                                    title  goodreads_book_id  \\\n",
       "0        1  The Hunger Games (The Hunger Games, #1)            2767052   \n",
       "1        1  The Hunger Games (The Hunger Games, #1)            2767052   \n",
       "2        1  The Hunger Games (The Hunger Games, #1)            2767052   \n",
       "\n",
       "           authors  tag_id  count   tag_name  \n",
       "0  Suzanne Collins   30574  11314    to-read  \n",
       "1  Suzanne Collins   11305  10836    fantasy  \n",
       "2  Suzanne Collins   11557  50755  favorites  "
      ]
     },
     "execution_count": 16,
     "metadata": {},
     "output_type": "execute_result"
    }
   ],
   "source": [
    "# Merge the two datasets grouping by the tag_id. \n",
    "data = pd.merge(book_tags, tags, left_on='tag_id', right_on='tag_id', how='inner')\n",
    "\n",
    "titles = books[['book_id','title','goodreads_book_id','authors']]\n",
    "\n",
    "# Merge the book dataset with the new one to know the title and the author\n",
    "data = pd.merge(titles, data, left_on='goodreads_book_id', right_on='goodreads_book_id')\n",
    "data.head(3)"
   ]
  },
  {
   "cell_type": "markdown",
   "metadata": {},
   "source": [
    "## 3. Data Analysis\n",
    "\n",
    "Once we have understood and observed our data, we will proceed to analyze it.\n",
    "\n",
    "First, we are going to take a look at the information we have about some interesting attributes:"
   ]
  },
  {
   "cell_type": "code",
   "execution_count": 17,
   "metadata": {},
   "outputs": [
    {
     "data": {
      "text/html": [
       "<div>\n",
       "<style scoped>\n",
       "    .dataframe tbody tr th:only-of-type {\n",
       "        vertical-align: middle;\n",
       "    }\n",
       "\n",
       "    .dataframe tbody tr th {\n",
       "        vertical-align: top;\n",
       "    }\n",
       "\n",
       "    .dataframe thead th {\n",
       "        text-align: right;\n",
       "    }\n",
       "</style>\n",
       "<table border=\"1\" class=\"dataframe\">\n",
       "  <thead>\n",
       "    <tr style=\"text-align: right;\">\n",
       "      <th></th>\n",
       "      <th>book_id</th>\n",
       "      <th>original_publication_year</th>\n",
       "      <th>average_rating</th>\n",
       "      <th>ratings_count</th>\n",
       "    </tr>\n",
       "  </thead>\n",
       "  <tbody>\n",
       "    <tr>\n",
       "      <th>count</th>\n",
       "      <td>9948.000000</td>\n",
       "      <td>9948.000000</td>\n",
       "      <td>9948.000000</td>\n",
       "      <td>9.948000e+03</td>\n",
       "    </tr>\n",
       "    <tr>\n",
       "      <th>mean</th>\n",
       "      <td>5001.972758</td>\n",
       "      <td>1989.688983</td>\n",
       "      <td>4.002050</td>\n",
       "      <td>5.400569e+04</td>\n",
       "    </tr>\n",
       "    <tr>\n",
       "      <th>std</th>\n",
       "      <td>2886.580085</td>\n",
       "      <td>63.459165</td>\n",
       "      <td>0.254411</td>\n",
       "      <td>1.576062e+05</td>\n",
       "    </tr>\n",
       "    <tr>\n",
       "      <th>min</th>\n",
       "      <td>1.000000</td>\n",
       "      <td>8.000000</td>\n",
       "      <td>2.470000</td>\n",
       "      <td>2.716000e+03</td>\n",
       "    </tr>\n",
       "    <tr>\n",
       "      <th>25%</th>\n",
       "      <td>2502.750000</td>\n",
       "      <td>1990.000000</td>\n",
       "      <td>3.850000</td>\n",
       "      <td>1.356975e+04</td>\n",
       "    </tr>\n",
       "    <tr>\n",
       "      <th>50%</th>\n",
       "      <td>5006.500000</td>\n",
       "      <td>2004.000000</td>\n",
       "      <td>4.020000</td>\n",
       "      <td>2.115850e+04</td>\n",
       "    </tr>\n",
       "    <tr>\n",
       "      <th>75%</th>\n",
       "      <td>7502.250000</td>\n",
       "      <td>2011.000000</td>\n",
       "      <td>4.180000</td>\n",
       "      <td>4.105350e+04</td>\n",
       "    </tr>\n",
       "    <tr>\n",
       "      <th>max</th>\n",
       "      <td>10000.000000</td>\n",
       "      <td>2017.000000</td>\n",
       "      <td>4.820000</td>\n",
       "      <td>4.780653e+06</td>\n",
       "    </tr>\n",
       "  </tbody>\n",
       "</table>\n",
       "</div>"
      ],
      "text/plain": [
       "            book_id  original_publication_year  average_rating  ratings_count\n",
       "count   9948.000000                9948.000000     9948.000000   9.948000e+03\n",
       "mean    5001.972758                1989.688983        4.002050   5.400569e+04\n",
       "std     2886.580085                  63.459165        0.254411   1.576062e+05\n",
       "min        1.000000                   8.000000        2.470000   2.716000e+03\n",
       "25%     2502.750000                1990.000000        3.850000   1.356975e+04\n",
       "50%     5006.500000                2004.000000        4.020000   2.115850e+04\n",
       "75%     7502.250000                2011.000000        4.180000   4.105350e+04\n",
       "max    10000.000000                2017.000000        4.820000   4.780653e+06"
      ]
     },
     "execution_count": 17,
     "metadata": {},
     "output_type": "execute_result"
    }
   ],
   "source": [
    "books[['book_id','original_publication_year','average_rating','ratings_count']].describe()"
   ]
  },
  {
   "cell_type": "code",
   "execution_count": 18,
   "metadata": {},
   "outputs": [
    {
     "data": {
      "text/html": [
       "<div>\n",
       "<style scoped>\n",
       "    .dataframe tbody tr th:only-of-type {\n",
       "        vertical-align: middle;\n",
       "    }\n",
       "\n",
       "    .dataframe tbody tr th {\n",
       "        vertical-align: top;\n",
       "    }\n",
       "\n",
       "    .dataframe thead th {\n",
       "        text-align: right;\n",
       "    }\n",
       "</style>\n",
       "<table border=\"1\" class=\"dataframe\">\n",
       "  <thead>\n",
       "    <tr style=\"text-align: right;\">\n",
       "      <th></th>\n",
       "      <th>book_id</th>\n",
       "      <th>goodreads_book_id</th>\n",
       "      <th>books_count</th>\n",
       "      <th>authors</th>\n",
       "      <th>original_publication_year</th>\n",
       "      <th>original_title</th>\n",
       "      <th>title</th>\n",
       "      <th>language_code</th>\n",
       "      <th>average_rating</th>\n",
       "      <th>ratings_count</th>\n",
       "      <th>work_text_reviews_count</th>\n",
       "    </tr>\n",
       "  </thead>\n",
       "  <tbody>\n",
       "    <tr>\n",
       "      <th>2365</th>\n",
       "      <td>2366</td>\n",
       "      <td>1715</td>\n",
       "      <td>437</td>\n",
       "      <td>Ovid, David Raeburn, Denis Feeney</td>\n",
       "      <td>8.0</td>\n",
       "      <td>Metamorphoses</td>\n",
       "      <td>Metamorphoses</td>\n",
       "      <td>eng</td>\n",
       "      <td>4.03</td>\n",
       "      <td>42590</td>\n",
       "      <td>1121</td>\n",
       "    </tr>\n",
       "  </tbody>\n",
       "</table>\n",
       "</div>"
      ],
      "text/plain": [
       "      book_id  goodreads_book_id  books_count  \\\n",
       "2365     2366               1715          437   \n",
       "\n",
       "                                authors  original_publication_year  \\\n",
       "2365  Ovid, David Raeburn, Denis Feeney                        8.0   \n",
       "\n",
       "     original_title          title language_code  average_rating  \\\n",
       "2365  Metamorphoses  Metamorphoses           eng            4.03   \n",
       "\n",
       "      ratings_count  work_text_reviews_count  \n",
       "2365          42590                     1121  "
      ]
     },
     "execution_count": 18,
     "metadata": {},
     "output_type": "execute_result"
    }
   ],
   "source": [
    "books[books['original_publication_year'] == 8]"
   ]
  },
  {
   "cell_type": "markdown",
   "metadata": {},
   "source": [
    "With this information, we can observe interesting aspects: \n",
    "\n",
    "\n",
    "-  The oldest book is one from year 8. This may seem strange to us since it is old, but if we look at the title of this book, it is one called \"Metamorphosis\" and, it was indeed written in AD 8. \n",
    "\n",
    "- We can observe that the minimum value for the average rating is 2.47 that it is not so low and the maximum's 4.82. On the other hand, we can see that the Standard Deviation (std), which shows us how dispersed are the values of the attributes from its average, is approximately 0.25. \n",
    "\n",
    "Next, we are going to observe the distribution of the books that we find in the dataset by the publication year. "
   ]
  },
  {
   "cell_type": "code",
   "execution_count": 19,
   "metadata": {},
   "outputs": [
    {
     "data": {
      "image/png": "[encoded data removed]",
      "text/plain": [
       "<Figure size 432x288 with 1 Axes>"
      ]
     },
     "metadata": {
      "needs_background": "light"
     },
     "output_type": "display_data"
    }
   ],
   "source": [
    "# Function that plots the distribution of the books by the year.\n",
    "def plot_yearDistribution():\n",
    "    # Filter booms written from 1900\n",
    "    years_filter = books[(books['original_publication_year'] >= 1900)]\n",
    "    \n",
    "    #Plot the distribution of the books by the publication year.\n",
    "    sns.distplot(years_filter['original_publication_year'], kde=False, bins=20)\n",
    "    plt.xlabel(\"Publication year\")\n",
    "    plt.show()\n",
    "\n",
    "plot_yearDistribution()"
   ]
  },
  {
   "cell_type": "markdown",
   "metadata": {},
   "source": [
    "We can observe from the plot above that most of the books that we find in the dataset are from the 2000s, so we can conclude that most of them are almost new.\n",
    "\n",
    "\n",
    "And, what if we look at the distribution of the ratings?"
   ]
  },
  {
   "cell_type": "code",
   "execution_count": 20,
   "metadata": {},
   "outputs": [
    {
     "data": {
      "image/png": "[encoded data removed]",
      "text/plain": [
       "<Figure size 432x288 with 1 Axes>"
      ]
     },
     "metadata": {
      "needs_background": "light"
     },
     "output_type": "display_data"
    }
   ],
   "source": [
    "sns.countplot(data=ratings, x ='rating', palette='pastel')\n",
    "plt.show()"
   ]
  },
  {
   "cell_type": "markdown",
   "metadata": {},
   "source": [
    "As we can see in the plot, people tend to give quite positive ratings to books. Most of the ratings are between 3 and 5, while very few ratings are between 1 and 2. We can make two hypotheses from this:\n",
    "\n",
    "1. People tend to vote only on the books they liked.\n",
    "2. People are biased towards positive reviews. \n",
    "\n",
    "Let's now, see which tags are the most popular."
   ]
  },
  {
   "cell_type": "code",
   "execution_count": 21,
   "metadata": {},
   "outputs": [
    {
     "data": {
      "image/png": "[encoded data removed]",
      "text/plain": [
       "<Figure size 432x288 with 1 Axes>"
      ]
     },
     "metadata": {
      "needs_background": "light"
     },
     "output_type": "display_data"
    }
   ],
   "source": [
    "# Count number of times each tag appears and sort them.\n",
    "top_tags = data['tag_name'].value_counts(ascending = False).head(10)\n",
    "\n",
    "sns.barplot(x = top_tags, y=top_tags.index, palette='pastel')\n",
    "plt.show()"
   ]
  },
  {
   "cell_type": "markdown",
   "metadata": {},
   "source": [
    "As we can see we have a lot of different tags, and there is not the only genre such as \"fiction\" or \"comedy\", but we can also find tags such as \"favorites\" or \"to-read\" which in this case are the two most popular.\n",
    "\n",
    "Next, we can see, whether we can find any association of features with a book's rating. Let's plot the correlation matrix between the book's average rating and some other variables such as the count of books, the publication year, number of ratings given, and the worktext review count. "
   ]
  },
  {
   "cell_type": "code",
   "execution_count": 22,
   "metadata": {},
   "outputs": [
    {
     "data": {
      "image/png": "[encoded data removed]",
      "text/plain": [
       "<Figure size 432x288 with 2 Axes>"
      ]
     },
     "metadata": {
      "needs_background": "light"
     },
     "output_type": "display_data"
    }
   ],
   "source": [
    "corr = books[['books_count','original_publication_year','ratings_count','work_text_reviews_count','average_rating']].corr()\n",
    "sns.heatmap(corr,annot=True)\n",
    "plt.show()"
   ]
  },
  {
   "cell_type": "markdown",
   "metadata": {},
   "source": [
    "We see only small correlations between the attributes and the average rating. It indicates that there are no strong relationships between the rating a book receives and the other variables as rating counts, etc. \n",
    "\n",
    "Let's now look at the 5 most popular books and the 5 with the highest average rating. Do you think it will be the same books or differents because these two attributes don't have a high correlation? "
   ]
  },
  {
   "cell_type": "code",
   "execution_count": 23,
   "metadata": {},
   "outputs": [
    {
     "data": {
      "text/html": [
       "<div>\n",
       "<style scoped>\n",
       "    .dataframe tbody tr th:only-of-type {\n",
       "        vertical-align: middle;\n",
       "    }\n",
       "\n",
       "    .dataframe tbody tr th {\n",
       "        vertical-align: top;\n",
       "    }\n",
       "\n",
       "    .dataframe thead th {\n",
       "        text-align: right;\n",
       "    }\n",
       "</style>\n",
       "<table border=\"1\" class=\"dataframe\">\n",
       "  <thead>\n",
       "    <tr style=\"text-align: right;\">\n",
       "      <th></th>\n",
       "      <th>title</th>\n",
       "      <th>ratings_count</th>\n",
       "    </tr>\n",
       "  </thead>\n",
       "  <tbody>\n",
       "    <tr>\n",
       "      <th>0</th>\n",
       "      <td>The Hunger Games (The Hunger Games, #1)</td>\n",
       "      <td>4780653</td>\n",
       "    </tr>\n",
       "    <tr>\n",
       "      <th>1</th>\n",
       "      <td>Harry Potter and the Sorcerer's Stone (Harry Potter, #1)</td>\n",
       "      <td>4602479</td>\n",
       "    </tr>\n",
       "    <tr>\n",
       "      <th>2</th>\n",
       "      <td>Twilight (Twilight, #1)</td>\n",
       "      <td>3866839</td>\n",
       "    </tr>\n",
       "    <tr>\n",
       "      <th>3</th>\n",
       "      <td>To Kill a Mockingbird</td>\n",
       "      <td>3198671</td>\n",
       "    </tr>\n",
       "    <tr>\n",
       "      <th>4</th>\n",
       "      <td>The Great Gatsby</td>\n",
       "      <td>2683664</td>\n",
       "    </tr>\n",
       "  </tbody>\n",
       "</table>\n",
       "</div>"
      ],
      "text/plain": [
       "                                                      title  ratings_count\n",
       "0  The Hunger Games (The Hunger Games, #1)                   4780653      \n",
       "1  Harry Potter and the Sorcerer's Stone (Harry Potter, #1)  4602479      \n",
       "2  Twilight (Twilight, #1)                                   3866839      \n",
       "3  To Kill a Mockingbird                                     3198671      \n",
       "4  The Great Gatsby                                          2683664      "
      ]
     },
     "execution_count": 23,
     "metadata": {},
     "output_type": "execute_result"
    }
   ],
   "source": [
    "pd.set_option('display.max_colwidth', -1)\n",
    "books[['title','ratings_count']].sort_values(by=['ratings_count'], ascending=False).head(5)"
   ]
  },
  {
   "cell_type": "code",
   "execution_count": 24,
   "metadata": {},
   "outputs": [
    {
     "data": {
      "text/html": [
       "<div>\n",
       "<style scoped>\n",
       "    .dataframe tbody tr th:only-of-type {\n",
       "        vertical-align: middle;\n",
       "    }\n",
       "\n",
       "    .dataframe tbody tr th {\n",
       "        vertical-align: top;\n",
       "    }\n",
       "\n",
       "    .dataframe thead th {\n",
       "        text-align: right;\n",
       "    }\n",
       "</style>\n",
       "<table border=\"1\" class=\"dataframe\">\n",
       "  <thead>\n",
       "    <tr style=\"text-align: right;\">\n",
       "      <th></th>\n",
       "      <th>title</th>\n",
       "      <th>average_rating</th>\n",
       "    </tr>\n",
       "  </thead>\n",
       "  <tbody>\n",
       "    <tr>\n",
       "      <th>3627</th>\n",
       "      <td>The Complete Calvin and Hobbes</td>\n",
       "      <td>4.82</td>\n",
       "    </tr>\n",
       "    <tr>\n",
       "      <th>3274</th>\n",
       "      <td>Harry Potter Boxed Set, Books 1-5 (Harry Potter, #1-5)</td>\n",
       "      <td>4.77</td>\n",
       "    </tr>\n",
       "    <tr>\n",
       "      <th>861</th>\n",
       "      <td>Words of Radiance (The Stormlight Archive, #2)</td>\n",
       "      <td>4.77</td>\n",
       "    </tr>\n",
       "    <tr>\n",
       "      <th>8853</th>\n",
       "      <td>Mark of the Lion Trilogy</td>\n",
       "      <td>4.76</td>\n",
       "    </tr>\n",
       "    <tr>\n",
       "      <th>7946</th>\n",
       "      <td>ESV Study Bible</td>\n",
       "      <td>4.76</td>\n",
       "    </tr>\n",
       "  </tbody>\n",
       "</table>\n",
       "</div>"
      ],
      "text/plain": [
       "                                                       title  average_rating\n",
       "3627  The Complete Calvin and Hobbes                          4.82          \n",
       "3274  Harry Potter Boxed Set, Books 1-5 (Harry Potter, #1-5)  4.77          \n",
       "861   Words of Radiance (The Stormlight Archive, #2)          4.77          \n",
       "8853  Mark of the Lion Trilogy                                4.76          \n",
       "7946  ESV Study Bible                                         4.76          "
      ]
     },
     "execution_count": 24,
     "metadata": {},
     "output_type": "execute_result"
    }
   ],
   "source": [
    "books[['title','average_rating']].sort_values(by=['average_rating'], ascending=False).head(5)"
   ]
  },
  {
   "cell_type": "markdown",
   "metadata": {},
   "source": [
    "As we expected, if a book is the most popular (because a lot of people have left their rating) it doesn't mean that it is the book with the best average rating. \n",
    "\n",
    "But, the first book of Harry Potter is the second most popular, and at the same time, all the Harry Potter books together are the second in terms of the average rating."
   ]
  },
  {
   "cell_type": "markdown",
   "metadata": {},
   "source": [
    "## 4. Recommender systems\n",
    "\n",
    "To achieve our objective, we are going to reproduce the two most popular recommender systems: Content-based filtering and Collaborative Filtering.\n",
    "\n",
    "## 4.1. Content-Based"
   ]
  },
  {
   "cell_type": "markdown",
   "metadata": {},
   "source": [
    "The Content-based recommender suggests similar items based on a particular item. This system uses item metadata such as genre, description of a book, etc. to make these recommendations... \n",
    "\n",
    "**What means content in our case?**\n",
    "\n",
    "In our case, we will use the tags that a user-provided to a book. So, the idea of content-based filtering is to understand what the users like, and if a person likes a particular book, he or she will also like a book that is similar to it. \n",
    "\n",
    "To understand this better, I will explain an example. \n",
    "\n",
    "> Imagine that your favorite book has the following tags: \"Romantic, fiction, vampires\". The system will recommend a book that has similar tags. \n",
    "\n",
    "<img src=\"./Images/CB.png\" alt=\"CB\" style=\"width: 300px;\"/>\n",
    "\n",
    "**How it works?**\n",
    "\n",
    "First of all, the system will find the similarity between all pairs of books, then it uses the most similar books to a user's already-rated books to generate a list of recommendations in the recommendation stage.\n",
    "\n",
    "Therefore, to find the similarity between books we will use all the tags of the books and we will compute the **TFIDF (Term Frequency-Inverse Document Frequency)** vector for each document (each list of tags).\n",
    "\n",
    "\n",
    "TF-IDF is from the sub-area of Natural language Processing. It is going to count the occurrence of each word in a document and weight them by importance, and finally calculate a score for that document. \n",
    "\n",
    "In other words, it is a measure used to evaluate how important a word is to a document in a document corpus. The importance of the word increases proportionally to the number of times a word appears in the document but, is offset by the frequency of the word in the documents. \n",
    "\n",
    "This will give us a matrix where each column represents a word in the list of tags vocabulary and each row represents a book. \n",
    "\n",
    "With this matrix, calculate the cosine similarity between two vectors. Each vector contains keywords (the tags) that define each book. This function is the next one:\n",
    "\n",
    "\n",
    "<img src=\"./Images/cosine.png\" alt=\"Cosine\" style=\"width: 400px;\"/>\n",
    "\n",
    "By applying this definition, the similarity will be a number bounded between 0 and 1 that tells us how much the two vectors are similar."
   ]
  },
  {
   "cell_type": "markdown",
   "metadata": {},
   "source": [
    "### Data preparation"
   ]
  },
  {
   "cell_type": "markdown",
   "metadata": {},
   "source": [
    "To create our recommender system, we need to prepare our data for it. \n",
    "\n",
    "The first step needed is to create a list of all the tags that a book has. Then, we will add this list to our dataset in a new column named \"Tags\". "
   ]
  },
  {
   "cell_type": "code",
   "execution_count": 25,
   "metadata": {},
   "outputs": [],
   "source": [
    "# For each book, join all their tags\n",
    "list_tags = data.groupby(by='goodreads_book_id')['tag_name'].apply(set).apply(list)\n",
    "\n",
    "# Append this list of tags on the books dataset\n",
    "books['tags'] = books['goodreads_book_id'].apply(lambda x: ' '.join(list_tags[x]))"
   ]
  },
  {
   "cell_type": "code",
   "execution_count": 26,
   "metadata": {},
   "outputs": [
    {
     "data": {
      "text/html": [
       "<div>\n",
       "<style scoped>\n",
       "    .dataframe tbody tr th:only-of-type {\n",
       "        vertical-align: middle;\n",
       "    }\n",
       "\n",
       "    .dataframe tbody tr th {\n",
       "        vertical-align: top;\n",
       "    }\n",
       "\n",
       "    .dataframe thead th {\n",
       "        text-align: right;\n",
       "    }\n",
       "</style>\n",
       "<table border=\"1\" class=\"dataframe\">\n",
       "  <thead>\n",
       "    <tr style=\"text-align: right;\">\n",
       "      <th></th>\n",
       "      <th>book_id</th>\n",
       "      <th>goodreads_book_id</th>\n",
       "      <th>books_count</th>\n",
       "      <th>authors</th>\n",
       "      <th>original_publication_year</th>\n",
       "      <th>original_title</th>\n",
       "      <th>title</th>\n",
       "      <th>language_code</th>\n",
       "      <th>average_rating</th>\n",
       "      <th>ratings_count</th>\n",
       "      <th>work_text_reviews_count</th>\n",
       "      <th>tags</th>\n",
       "    </tr>\n",
       "  </thead>\n",
       "  <tbody>\n",
       "    <tr>\n",
       "      <th>0</th>\n",
       "      <td>1</td>\n",
       "      <td>2767052</td>\n",
       "      <td>272</td>\n",
       "      <td>Suzanne Collins</td>\n",
       "      <td>2008.0</td>\n",
       "      <td>The Hunger Games</td>\n",
       "      <td>The Hunger Games (The Hunger Games, #1)</td>\n",
       "      <td>eng</td>\n",
       "      <td>4.34</td>\n",
       "      <td>4780653</td>\n",
       "      <td>155254</td>\n",
       "      <td>dystopian ebook sci-fi-fantasy 5-star audio fa...</td>\n",
       "    </tr>\n",
       "    <tr>\n",
       "      <th>1</th>\n",
       "      <td>2</td>\n",
       "      <td>3</td>\n",
       "      <td>491</td>\n",
       "      <td>J.K. Rowling, Mary GrandPré</td>\n",
       "      <td>1997.0</td>\n",
       "      <td>Harry Potter and the Philosopher's Stone</td>\n",
       "      <td>Harry Potter and the Sorcerer's Stone (Harry P...</td>\n",
       "      <td>eng</td>\n",
       "      <td>4.44</td>\n",
       "      <td>4602479</td>\n",
       "      <td>75867</td>\n",
       "      <td>ebook mystery sci-fi-fantasy audio favourite r...</td>\n",
       "    </tr>\n",
       "    <tr>\n",
       "      <th>2</th>\n",
       "      <td>3</td>\n",
       "      <td>41865</td>\n",
       "      <td>226</td>\n",
       "      <td>Stephenie Meyer</td>\n",
       "      <td>2005.0</td>\n",
       "      <td>Twilight</td>\n",
       "      <td>Twilight (Twilight, #1)</td>\n",
       "      <td>en-US</td>\n",
       "      <td>3.57</td>\n",
       "      <td>3866839</td>\n",
       "      <td>95009</td>\n",
       "      <td>ebook romantic sci-fi-fantasy ya-paranormal di...</td>\n",
       "    </tr>\n",
       "  </tbody>\n",
       "</table>\n",
       "</div>"
      ],
      "text/plain": [
       "   book_id  goodreads_book_id  books_count                      authors  \\\n",
       "0        1            2767052          272              Suzanne Collins   \n",
       "1        2                  3          491  J.K. Rowling, Mary GrandPré   \n",
       "2        3              41865          226              Stephenie Meyer   \n",
       "\n",
       "   original_publication_year                            original_title  \\\n",
       "0                     2008.0                          The Hunger Games   \n",
       "1                     1997.0  Harry Potter and the Philosopher's Stone   \n",
       "2                     2005.0                                  Twilight   \n",
       "\n",
       "                                               title language_code  \\\n",
       "0            The Hunger Games (The Hunger Games, #1)           eng   \n",
       "1  Harry Potter and the Sorcerer's Stone (Harry P...           eng   \n",
       "2                            Twilight (Twilight, #1)         en-US   \n",
       "\n",
       "   average_rating  ratings_count  work_text_reviews_count  \\\n",
       "0            4.34        4780653                   155254   \n",
       "1            4.44        4602479                    75867   \n",
       "2            3.57        3866839                    95009   \n",
       "\n",
       "                                                tags  \n",
       "0  dystopian ebook sci-fi-fantasy 5-star audio fa...  \n",
       "1  ebook mystery sci-fi-fantasy audio favourite r...  \n",
       "2  ebook romantic sci-fi-fantasy ya-paranormal di...  "
      ]
     },
     "execution_count": 26,
     "metadata": {},
     "output_type": "execute_result"
    }
   ],
   "source": [
    "pd.reset_option('max_colwidth')\n",
    "books.head(3)"
   ]
  },
  {
   "cell_type": "markdown",
   "metadata": {},
   "source": [
    "Let's create the functions that we will need to create our content-based recommender system."
   ]
  },
  {
   "cell_type": "code",
   "execution_count": 27,
   "metadata": {},
   "outputs": [],
   "source": [
    "# Function to get the index of the book given its title. \n",
    "def get_book_id(book_title):\n",
    "    index = books.index[books['original_title'] == book_title].to_list()\n",
    "    if index:\n",
    "        return index[0]\n",
    "    else:\n",
    "        return None\n",
    "\n",
    "# Function to get the title of a book given its id.\n",
    "def get_book_title(book_id):\n",
    "    title = books.iloc[book_id]['original_title']\n",
    "    return title\n",
    "\n",
    "# Function that takes the book title and returns the most similar books.\n",
    "def get_similar_books(title, n=5):\n",
    "    \n",
    "    # Get the book id\n",
    "    book_id = get_book_id(title)\n",
    "    \n",
    "    if book_id is None:\n",
    "        print(\"Book not found.\")\n",
    "    else:\n",
    "        \n",
    "        # Get the pariwsie similarity scores of all books with that book\n",
    "        book_similarities = list(enumerate(similarities[book_id]))\n",
    "        \n",
    "        # Sort the books based on the similarity scores\n",
    "        book_similarities = sorted(book_similarities, key=lambda x: x[1], reverse=True)\n",
    "        \n",
    "        # Get the scores of the 5 most similar book\n",
    "        most_similar_books = book_similarities[1:1+n]\n",
    "        most_similar_books = list(map(lambda x: (get_book_title(x[0]), round(x[1], 2)), most_similar_books))\n",
    "        \n",
    "        most_similar_books_df = pd.DataFrame(most_similar_books, columns=['Title', 'Similarity'])\n",
    "        print(\"For this book we will recommand you:\\n\")\n",
    "        \n",
    "        return most_similar_books_df.style.hide_index()"
   ]
  },
  {
   "cell_type": "markdown",
   "metadata": {},
   "source": [
    "### Model creation\n",
    "\n",
    "To build the TF-IDF matrix we will use the **TfIdfVectorizer** from _scikit-learn_.\n",
    "\n",
    "First of all, we will define the TF-IDF Vectorizer Object and also remove all the english stop words such as \"the\", \"and\", \"or\", etc.\n",
    "\n",
    "Then, we have to construct the required TF-IDF matrix by fitting and transforming the data (in our case, the column named 'tags')."
   ]
  },
  {
   "cell_type": "code",
   "execution_count": 28,
   "metadata": {},
   "outputs": [],
   "source": [
    "tfidf = TfidfVectorizer(stop_words='english')\n",
    "\n",
    "tfidf_matrix = tfidf.fit_transform(books['tags'])"
   ]
  },
  {
   "cell_type": "markdown",
   "metadata": {},
   "source": [
    "Now, as we said, we will use the cosine similarity score. "
   ]
  },
  {
   "cell_type": "code",
   "execution_count": 29,
   "metadata": {},
   "outputs": [],
   "source": [
    "similarities = cosine_similarity(tfidf_matrix, tfidf_matrix)"
   ]
  },
  {
   "cell_type": "code",
   "execution_count": 30,
   "metadata": {
    "scrolled": true
   },
   "outputs": [
    {
     "name": "stdout",
     "output_type": "stream",
     "text": [
      "For this book we will recommand you:\n",
      "\n"
     ]
    },
    {
     "data": {
      "text/html": [
       "<style  type=\"text/css\" >\n",
       "</style><table id=\"T_53539508_a03d_11ea_b531_8086f2317599\" ><thead>    <tr>        <th class=\"col_heading level0 col0\" >Title</th>        <th class=\"col_heading level0 col1\" >Similarity</th>    </tr></thead><tbody>\n",
       "                <tr>\n",
       "                                <td id=\"T_53539508_a03d_11ea_b531_8086f2317599row0_col0\" class=\"data row0 col0\" >Catching Fire</td>\n",
       "                        <td id=\"T_53539508_a03d_11ea_b531_8086f2317599row0_col1\" class=\"data row0 col1\" >0.960000</td>\n",
       "            </tr>\n",
       "            <tr>\n",
       "                                <td id=\"T_53539508_a03d_11ea_b531_8086f2317599row1_col0\" class=\"data row1 col0\" >Mockingjay</td>\n",
       "                        <td id=\"T_53539508_a03d_11ea_b531_8086f2317599row1_col1\" class=\"data row1 col1\" >0.940000</td>\n",
       "            </tr>\n",
       "            <tr>\n",
       "                                <td id=\"T_53539508_a03d_11ea_b531_8086f2317599row2_col0\" class=\"data row2 col0\" >The Hunger Games Box Set</td>\n",
       "                        <td id=\"T_53539508_a03d_11ea_b531_8086f2317599row2_col1\" class=\"data row2 col1\" >0.900000</td>\n",
       "            </tr>\n",
       "            <tr>\n",
       "                                <td id=\"T_53539508_a03d_11ea_b531_8086f2317599row3_col0\" class=\"data row3 col0\" >Divergent</td>\n",
       "                        <td id=\"T_53539508_a03d_11ea_b531_8086f2317599row3_col1\" class=\"data row3 col1\" >0.740000</td>\n",
       "            </tr>\n",
       "            <tr>\n",
       "                                <td id=\"T_53539508_a03d_11ea_b531_8086f2317599row4_col0\" class=\"data row4 col0\" >Delirium</td>\n",
       "                        <td id=\"T_53539508_a03d_11ea_b531_8086f2317599row4_col1\" class=\"data row4 col1\" >0.670000</td>\n",
       "            </tr>\n",
       "    </tbody></table>"
      ],
      "text/plain": [
       "<pandas.io.formats.style.Styler at 0x1c7ca52a278>"
      ]
     },
     "execution_count": 30,
     "metadata": {},
     "output_type": "execute_result"
    }
   ],
   "source": [
    "get_similar_books(\"The Hunger Games\")"
   ]
  },
  {
   "cell_type": "markdown",
   "metadata": {},
   "source": [
    "These results are very great! If you look at the first two books, as expected, are the second and third parts of the trilogy \"The Hunger Games\". Then, it shows with a 74 percent similarity, the first book of the saga Divergent, that personally, I read it and I agree that these two are similar. "
   ]
  },
  {
   "cell_type": "markdown",
   "metadata": {},
   "source": [
    "## 4.2. Collaborative-Filtering\n",
    "\n",
    "The Collaborative-Filtering can be classified into two types: User-based or Item-based. \n",
    "\n",
    "We will reproduce the User-Based since the idea of the Item-Based is the same as the Content-Based.\n",
    "\n",
    "The main idea of User-Based Collaborative-Filtering User-Based is that this method recommends you a book by using the similarities between users. \n",
    "\n",
    "> Imagine that you and your friend Lara have a similar interest in books and almost always you like and dislike the same books. Now, if you don't know what book to read next, it is obvious that you will ask her to recommend a book. That is what this recommender system will do. \n",
    "\n",
    "<img src=\"./Images/cf.png\" alt=\"CF\" style=\"width: 350px;\"/>\n",
    "\n",
    "**How will it do it?**\n",
    "\n",
    "We will use the Surprise library from Scikit, which builds and analyzes recommender systems. It provides various ready-to-use prediction algorithms such as matrix factorization-based (SVD). Also, various similarity measures. \n",
    "\n",
    "We are going to use the SVD algorithm that is equivalent to probabilistic matrix factorization it allows us to discover the latent features underlying the interactions between users and items. "
   ]
  },
  {
   "cell_type": "markdown",
   "metadata": {},
   "source": [
    "### Data preparation\n",
    "\n",
    "To create our recommender system, we need to prepare our data for it. \n",
    "\n",
    "Since we have a lot of data and for computational cost reasons we will only deal with the books that were released from the year 2000 so we will recommend books from this century. "
   ]
  },
  {
   "cell_type": "code",
   "execution_count": 31,
   "metadata": {},
   "outputs": [],
   "source": [
    "# We keep only the books from the year 2000.\n",
    "newer_books = books[books['original_publication_year'] > 2000]\n",
    "\n",
    "df_books = newer_books[['book_id','original_title', 'title']]\n",
    "\n",
    "# We are left with the ratings that have been made to the books from the year 2000.\n",
    "df_ratings = ratings[ratings.book_id.isin(df_books.book_id)]"
   ]
  },
  {
   "cell_type": "markdown",
   "metadata": {},
   "source": [
    "On the other hand, we will keep only the users who have voted more than 100 books. \n",
    "\n",
    "Then, the data we have must have the following attributes: _user\\_id, _book\\_id_, _rating_. \n",
    "\n",
    "Once we have it, we can proceed to create the recommender system."
   ]
  },
  {
   "cell_type": "code",
   "execution_count": 32,
   "metadata": {},
   "outputs": [],
   "source": [
    "# Count the users that has voted more than 100 times. \n",
    "user_counts = df_ratings['user_id'].value_counts()\n",
    "df_ratings = df_ratings[df_ratings['user_id'].isin(user_counts[user_counts >= 100].index)]"
   ]
  },
  {
   "cell_type": "code",
   "execution_count": 33,
   "metadata": {},
   "outputs": [],
   "source": [
    "df_titles = df_books[['book_id','title']]\n",
    "df_titles.set_index('book_id', inplace = True)"
   ]
  },
  {
   "cell_type": "code",
   "execution_count": 34,
   "metadata": {},
   "outputs": [],
   "source": [
    "# Function that takes the user id and returns the most similar books. \n",
    "def recommend_books(user_id):\n",
    "    \n",
    "    # Getting all the ratings that has done the user\n",
    "    user = df_ratings[df_ratings['user_id'] == user_id]\n",
    "    user = user.join(df_titles)['title']\n",
    "    \n",
    "    user = df_titles.copy()\n",
    "    user = user.reset_index()\n",
    "    \n",
    "    # We get the books that the user has not yet read. \n",
    "    user = user[~user['book_id'].isin(df_books)]\n",
    "    \n",
    "    # We check the predicted score using the predict function and getting the estimation.\n",
    "    user['estimate_score'] = user['book_id'].apply(lambda x: svd.predict(user_id, x).est)\n",
    "    \n",
    "    # Sort the books by the estimate score that the predict returns.\n",
    "    user = user.drop('book_id', axis=1)\n",
    "    user = user.sort_values('estimate_score', ascending=False)\n",
    "    \n",
    "    return user.head(5)"
   ]
  },
  {
   "cell_type": "markdown",
   "metadata": {},
   "source": [
    "### Model creation\n",
    "\n",
    "Now, it's time to start using the Surprise package. \n",
    "\n",
    "The first thing we need to do is to load the dataset and this is done using the Reader class. \n",
    "\n",
    "Surprise library provides us a way to do cross-validation by dividing the data into different folds right from the beginning. The idea behind this is to apply cross-validation to the data where training is done on all fold except one and scoring is done on the remaining fold. \n",
    "\n",
    "The folds of data are done using the split function."
   ]
  },
  {
   "cell_type": "code",
   "execution_count": 35,
   "metadata": {},
   "outputs": [],
   "source": [
    "reader = Reader()\n",
    "\n",
    "data = Dataset.load_from_df(df_ratings[['user_id','book_id','rating']], reader)\n",
    "data.split(n_folds=5)"
   ]
  },
  {
   "cell_type": "markdown",
   "metadata": {},
   "source": [
    "The way of training is similar to other machine learning approaches. It will try to predict the rating of a certain user-book combination and it will compare that prediction to the actual prediction. \n",
    "\n",
    "The difference between the actual and the predicted rating is measured using classical error measurements such as RMSE (Root Mean Squared Error) and MAE (Mean Absolute Error)."
   ]
  },
  {
   "cell_type": "code",
   "execution_count": 36,
   "metadata": {},
   "outputs": [
    {
     "name": "stdout",
     "output_type": "stream",
     "text": [
      "Evaluating RMSE, MAE of algorithm SVD.\n",
      "\n",
      "------------\n",
      "Fold 1\n",
      "RMSE: 0.8101\n",
      "MAE:  0.6265\n",
      "------------\n",
      "Fold 2\n",
      "RMSE: 0.8154\n",
      "MAE:  0.6312\n",
      "------------\n",
      "Fold 3\n",
      "RMSE: 0.8154\n",
      "MAE:  0.6308\n",
      "------------\n",
      "Fold 4\n",
      "RMSE: 0.8086\n",
      "MAE:  0.6263\n",
      "------------\n",
      "Fold 5\n",
      "RMSE: 0.8120\n",
      "MAE:  0.6303\n",
      "------------\n",
      "------------\n",
      "Mean RMSE: 0.8123\n",
      "Mean MAE : 0.6290\n",
      "------------\n",
      "------------\n"
     ]
    },
    {
     "data": {
      "text/plain": [
       "CaseInsensitiveDefaultDict(list,\n",
       "                           {'rmse': [0.8100927324647104,\n",
       "                             0.8153557410725607,\n",
       "                             0.8153780262691599,\n",
       "                             0.8086489726313184,\n",
       "                             0.8119890751075312],\n",
       "                            'mae': [0.6265295178852756,\n",
       "                             0.6311652385944209,\n",
       "                             0.6308166003205838,\n",
       "                             0.6263116471229938,\n",
       "                             0.6303375303514197]})"
      ]
     },
     "execution_count": 36,
     "metadata": {},
     "output_type": "execute_result"
    }
   ],
   "source": [
    "svd = SVD()\n",
    "evaluate(svd, data, measures=['RMSE','MAE'])"
   ]
  },
  {
   "cell_type": "markdown",
   "metadata": {},
   "source": [
    "Finally, once arrived here we can now train on the whole data set to get the best possible results. Then, we can predict which book would be liked by a user. "
   ]
  },
  {
   "cell_type": "code",
   "execution_count": 37,
   "metadata": {},
   "outputs": [
    {
     "data": {
      "text/plain": [
       "<surprise.prediction_algorithms.matrix_factorization.SVD at 0x1c7cb614d68>"
      ]
     },
     "execution_count": 37,
     "metadata": {},
     "output_type": "execute_result"
    }
   ],
   "source": [
    "trainset = data.build_full_trainset()\n",
    "svd.train(trainset)"
   ]
  },
  {
   "cell_type": "code",
   "execution_count": 38,
   "metadata": {},
   "outputs": [
    {
     "data": {
      "text/html": [
       "<div>\n",
       "<style scoped>\n",
       "    .dataframe tbody tr th:only-of-type {\n",
       "        vertical-align: middle;\n",
       "    }\n",
       "\n",
       "    .dataframe tbody tr th {\n",
       "        vertical-align: top;\n",
       "    }\n",
       "\n",
       "    .dataframe thead th {\n",
       "        text-align: right;\n",
       "    }\n",
       "</style>\n",
       "<table border=\"1\" class=\"dataframe\">\n",
       "  <thead>\n",
       "    <tr style=\"text-align: right;\">\n",
       "      <th></th>\n",
       "      <th>title</th>\n",
       "      <th>estimate_score</th>\n",
       "    </tr>\n",
       "  </thead>\n",
       "  <tbody>\n",
       "    <tr>\n",
       "      <th>24</th>\n",
       "      <td>Eclipse (Twilight, #3)</td>\n",
       "      <td>3.995984</td>\n",
       "    </tr>\n",
       "    <tr>\n",
       "      <th>26</th>\n",
       "      <td>Breaking Dawn (Twilight, #4)</td>\n",
       "      <td>3.931899</td>\n",
       "    </tr>\n",
       "    <tr>\n",
       "      <th>22</th>\n",
       "      <td>New Moon (Twilight, #2)</td>\n",
       "      <td>3.931691</td>\n",
       "    </tr>\n",
       "    <tr>\n",
       "      <th>142</th>\n",
       "      <td>City of Fallen Angels (The Mortal Instruments,...</td>\n",
       "      <td>3.809371</td>\n",
       "    </tr>\n",
       "    <tr>\n",
       "      <th>399</th>\n",
       "      <td>Words of Radiance (The Stormlight Archive, #2)</td>\n",
       "      <td>3.769652</td>\n",
       "    </tr>\n",
       "  </tbody>\n",
       "</table>\n",
       "</div>"
      ],
      "text/plain": [
       "                                                 title  estimate_score\n",
       "24                              Eclipse (Twilight, #3)        3.995984\n",
       "26                        Breaking Dawn (Twilight, #4)        3.931899\n",
       "22                             New Moon (Twilight, #2)        3.931691\n",
       "142  City of Fallen Angels (The Mortal Instruments,...        3.809371\n",
       "399     Words of Radiance (The Stormlight Archive, #2)        3.769652"
      ]
     },
     "execution_count": 38,
     "metadata": {},
     "output_type": "execute_result"
    }
   ],
   "source": [
    "user_id = 16601\n",
    "recommend_books(user_id)"
   ]
  },
  {
   "cell_type": "markdown",
   "metadata": {},
   "source": [
    "## 5. Conclusions"
   ]
  },
  {
   "cell_type": "markdown",
   "metadata": {},
   "source": [
    "After analyzing and creating these two recommender systems and seeing the results, we reached the following conclusions:\n",
    "\n",
    "- Recommender systems are becoming essential important in many big industries. \n",
    "\n",
    "- The Content-Based recommender systems have their limitations. \n",
    "\n",
    "    - For example, for new users, you may not have enough information to build a profile for a user. \n",
    "    - On the other hand, they are only capable of suggesting books which are similar to another book without analyzing the user profile. \n",
    "\n",
    "- Although Collaborative-Filtering takes into account the users, it also has some limitations such as:\n",
    "\n",
    "    - This system can not handle fresh items or new users because if they have not been seen during the training, the system can not recommend them. \n",
    "    \n",
    "Even so, the two recommendation systems have provided us with good results and the main objective has been achieved: to recommend a book to a person based on similar books or users. "
   ]
  },
  {
   "cell_type": "code",
   "execution_count": null,
   "metadata": {},
   "outputs": [],
   "source": []
  }
 ],
 "metadata": {
  "kernelspec": {
   "display_name": "Python 3",
   "language": "python",
   "name": "python3"
  },
  "language_info": {
   "codemirror_mode": {
    "name": "ipython",
    "version": 3
   },
   "file_extension": ".py",
   "mimetype": "text/x-python",
   "name": "python",
   "nbconvert_exporter": "python",
   "pygments_lexer": "ipython3",
   "version": "3.6.10"
  }
 },
 "nbformat": 4,
 "nbformat_minor": 4
}
